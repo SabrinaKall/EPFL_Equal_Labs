{
 "cells": [
  {
   "cell_type": "code",
   "execution_count": 25,
   "metadata": {},
   "outputs": [
    {
     "name": "stdout",
     "output_type": "stream",
     "text": [
      "https://www.epfl.ch/labs/aspg/\n",
      "https://www.epfl.ch/labs/gem/\n",
      "https://www.epfl.ch/labs/gfo/\n",
      "https://www.epfl.ch/labs/gramm/\n",
      "https://www.epfl.ch/labs/gtt/\n",
      "https://www.epfl.ch/labs/desl-pwrs/\n",
      "https://www.epfl.ch/labs/tic/\n",
      "https://www.epfl.ch/labs/sds/\n",
      "https://www.epfl.ch/labs/sfi-em/\n",
      "https://www.epfl.ch/labs/sfi-jh/\n"
     ]
    }
   ],
   "source": [
    "import webbrowser\n",
    "import pandas as pd\n",
    "\n",
    "\n",
    "start = 330\n",
    "end = 340\n",
    "\n",
    "df = pd.read_csv(\"db/labs.csv\")\n",
    "rows = df['source'].iloc[start:end]\n",
    "\n",
    "for _, url in rows.iteritems():\n",
    "    print(url)\n",
    "    webbrowser.open(url)"
   ]
  },
  {
   "cell_type": "code",
   "execution_count": null,
   "metadata": {},
   "outputs": [],
   "source": []
  }
 ],
 "metadata": {
  "kernelspec": {
   "display_name": "Python 3",
   "language": "python",
   "name": "python3"
  },
  "language_info": {
   "codemirror_mode": {
    "name": "ipython",
    "version": 3
   },
   "file_extension": ".py",
   "mimetype": "text/x-python",
   "name": "python",
   "nbconvert_exporter": "python",
   "pygments_lexer": "ipython3",
   "version": "3.7.2"
  }
 },
 "nbformat": 4,
 "nbformat_minor": 2
}
